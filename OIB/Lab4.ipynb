{
 "cells": [
  {
   "cell_type": "code",
   "execution_count": 25,
   "metadata": {},
   "outputs": [
    {
     "name": "stdout",
     "output_type": "stream",
     "text": [
      "[11, 20, 14, 3, 21, 17, 15, 2]\n",
      "[2, 3, 11, 14, 15, 17, 20, 21]\n",
      "хсесииеоНнэ,овктдооесбнуасргтвзлттв,ан?иииодмсчмваеоелбомшитпожгиоиутиглкисаечВспловвзгеотннутоивндтрамжтаоас,ызрослородтислыозкдтсаупорвсолоонртлчкоаухорниаомоекрн.тнлкзаЭиснонодмвото,насосливжомгиторчйосоаьок.в,ннииоеусыниоратвамиугпвочлыаври,ооочр,мееовекнеокскякшвялп:лехн-наяакекллг,а-уенор,,оянргойдэ,вашне\n"
     ]
    }
   ],
   "source": [
    "from textwrap import wrap\n",
    "keyPhrase='кунгуров'\n",
    "mainText = 'В приемах своих господин имел что-то солидное и высмаркивался чрезвычайно громко. Неизвестно, как он это делал, но только нос его звучал, как труба. Это, по-видимому, совершенно невинное достоинство приобрело, однако ж, ему много уважения со стороны трактирного слуги, так что он всякий раз, когда слышал этот звук, встряхивал волосами, спрашивал: не нужно ли чего?'\n",
    "\n",
    "alphabet = \"абвгдеёжзийклмнопрстуфхцчшщъыьэюя\"\n",
    "\n",
    "keyPhraseIndex = []\n",
    "\n",
    "# find the index of is\n",
    "for i in keyPhrase:\n",
    "    if alphabet.index(i) in keyPhraseIndex:\n",
    "        keyPhraseIndex.append(alphabet.index(i)+1)\n",
    "    else: \n",
    "        keyPhraseIndex.append(alphabet.index(i))\n",
    "\n",
    "\n",
    "def lineSplit(line, n):\n",
    "    line = line.replace(\" \",\"\")\n",
    "    sus = []\n",
    "    lst=[]\n",
    "    for i in range (0, len(line), n):\n",
    "        sus.append(list(line[i: i+n ]))\n",
    "    \n",
    "    # for i in range (0, len(line)):\n",
    "    #     lst.append([item[i] for item in sus])\n",
    "\n",
    "    return sus\n",
    "\n",
    "mainTextMas = lineSplit(mainText, len(keyPhrase))\n",
    "# print(keyPhraseIndex)\n",
    "# print(mainTextMas)\n",
    "lst = []\n",
    "for i in range(0, len(keyPhrase)):\n",
    "    # print(i)\n",
    "    nun = [item[i] for item in mainTextMas]\n",
    "    lst.append(nun)\n",
    "\n",
    "\n",
    "\n",
    "\n",
    "sortKeyIndex = keyPhraseIndex.copy()\n",
    "\n",
    "sortKeyIndex.sort()\n",
    "# print(sortKeyIndex)\n",
    "# print(keyPhraseIndex)\n",
    "\n",
    "finallList = []\n",
    "for i in sortKeyIndex:\n",
    "#     finallList.append(lst[keyPhraseIndex.index(i):])\n",
    "\n",
    "    finallList.append(lst[keyPhraseIndex.index(i)])\n",
    "\n",
    "t = finallList\n",
    "\n",
    "finallString = ''\n",
    "\n",
    "for i in range(0,8):\n",
    "    # finallString.join(finallList[i])\n",
    "    finallString+= ''.join(finallList[i])\n",
    "\n",
    "print(keyPhraseIndex)\n",
    "print(sortKeyIndex)\n",
    "# print(mainTextMas)\n",
    "# print(lst)\n",
    "\n",
    "# print(finallString)"
   ]
  }
 ],
 "metadata": {
  "interpreter": {
   "hash": "916dbcbb3f70747c44a77c7bcd40155683ae19c65e1c03b4aa3499c5328201f1"
  },
  "kernelspec": {
   "display_name": "Python 3.9.7 64-bit",
   "language": "python",
   "name": "python3"
  },
  "language_info": {
   "codemirror_mode": {
    "name": "ipython",
    "version": 3
   },
   "file_extension": ".py",
   "mimetype": "text/x-python",
   "name": "python",
   "nbconvert_exporter": "python",
   "pygments_lexer": "ipython3",
   "version": "3.9.7"
  },
  "orig_nbformat": 4
 },
 "nbformat": 4,
 "nbformat_minor": 2
}
