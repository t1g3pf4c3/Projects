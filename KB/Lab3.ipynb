{
 "cells": [
  {
   "cell_type": "code",
   "execution_count": 21,
   "metadata": {},
   "outputs": [],
   "source": [
    "keyPhrase = \"Так думал молодой повеса\"\n",
    "mainText = \"В приемах своих господин имел что-то солидное и высмаркивался чрезвычайно громко. Неизвестно, как он это делал, но только нос его звучал, как труба. Это, по-видимому, совершенно невинное достоинство приобрело, однако ж, ему много уважения со стороны трактирного слуги, так что он всякий раз, когда слышал этот звук, встряхивал волосами, спрашивал: не нужно ли чего?\"\n",
    "alphabet = \"абвгдеёжзийклмнопрстуфхцчшщъыьэюя\""
   ]
  },
  {
   "cell_type": "code",
   "execution_count": 49,
   "metadata": {},
   "outputs": [
    {
     "name": "stdout",
     "output_type": "stream",
     "text": [
      "такдумлойпвесбгёжзинрфхцчшщъыьэюя\n",
      "абвгдеёжзийклмнопрстуфхцчшщъыьэюя\n",
      "вприемахсвоихгосподинимелчтотосолидноеивысмаркивалсячрезвычайногромконеизвестнокаконэтоделалнотольконосегозвучалкактрубаэтоповидимомусовершенноневинноедостоинствоприобрелооднакожемумногоуважениясосторонытрактирногослугитакчтоонвсякийразкогдаслышалэтотзвуквстряхивалволосамиспрашивалненужноличего\n",
      "\n",
      "кжзпм бтхик ёпхдё ижёуп гпбмс чнёнё иёспу гёмпк ыибтз епктс иячзм йкычт вгёдз ёбеёг мпйкм ингёе теёгэ нёумс тсгён ёсьеё гёимд ёйкрч тсете нзрат энёжё кпупб ёбриё кмзшм ггёгм кпггё муёин ёпгин кёжзп ёазмс ёёугт еёомб рбгёд ёркто мгпяи ёинёз ёгынз тенпз гёдёи срдпн течнё ёгкия епвзт йеёду тисыш тсэнё нйкре кинзя хпктс кёсёи тбпиж зтшпк тсгмг рогёс пчмдё \n"
     ]
    }
   ],
   "source": [
    "def formatting(phrase):\n",
    "    s = ''.join(ch for ch in phrase if ch.isalnum())\n",
    "    return s.lower()\n",
    "\n",
    "def createAlph(n):\n",
    "\n",
    "    o = ''.join(sorted(set(n), key=n.index))\n",
    "    z = o.lower()+alphabet\n",
    "    k =''.join(sorted(set(z), key=z.index))\n",
    "    return k\n",
    "\n",
    "sus = createAlph(formatting(keyPhrase))\n",
    "gug = formatting(mainText)\n",
    "print(sus)\n",
    "print(alphabet)\n",
    "print(gug + '\\n')\n",
    "dummy = ''\n",
    "k = 0\n",
    "for i in gug:\n",
    "    k+=1\n",
    "    mesto = alphabet.find(i)\n",
    "    dummy+=sus[mesto]\n",
    "    if(k%5 == 0):\n",
    "        dummy+= \" \"\n",
    "\n",
    "print(dummy)\n"
   ]
  }
 ],
 "metadata": {
  "interpreter": {
   "hash": "916dbcbb3f70747c44a77c7bcd40155683ae19c65e1c03b4aa3499c5328201f1"
  },
  "kernelspec": {
   "display_name": "Python 3.9.7 64-bit",
   "language": "python",
   "name": "python3"
  },
  "language_info": {
   "codemirror_mode": {
    "name": "ipython",
    "version": 3
   },
   "file_extension": ".py",
   "mimetype": "text/x-python",
   "name": "python",
   "nbconvert_exporter": "python",
   "pygments_lexer": "ipython3",
   "version": "3.9.7"
  },
  "orig_nbformat": 4
 },
 "nbformat": 4,
 "nbformat_minor": 2
}
