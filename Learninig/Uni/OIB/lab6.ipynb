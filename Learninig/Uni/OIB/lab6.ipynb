{
 "cells": [
  {
   "cell_type": "code",
   "execution_count": 21,
   "metadata": {},
   "outputs": [],
   "source": [
    "text = \"%curzedumznfsunj*zurca#nmzj*ectxnxc[uc*hzac%cd*bcujxzd,*bct%cfs%y*%*ixcz*%nxdpcazz*(gn*zt%fk[duzd#*tvdeduzz,*cxuctjwzltj*%*pctyenatxvduucz*xnzud)*cxuctjxtj*vtd*vzeo*zurca#nmzz*cpanuz[duucpc*ectxybn,*gnwzwnd#cz*gn%cuc#.*baz*td*ztbcfsgcvnuzz*ecfhuctxuod*fzmn*capnucv*p#y*z*capnuzgnmzz*vtdl*rca#*tc$txvduuctxz*ecfhuo*edztxvcvnxs*v*zuxdadtnl*tvczl*txay%xya,*bazuz#nj*vtd*udc$lcez#od*#dao*bc*clanud*%curzedumznfsuctxz*zurca#nmzz,*cxudtduucz*%*xn%cvcz*un*gn%cuuc#*ctucvnuzz*z*ectxybucz*z#*v*tzfy*tfyhd$ucpc*bcfchduzj.*bacmdeyan*z*ytfcvzj*bcfsgcvnuzj*%curzedumznfsucz*zurca#nmzdz*v*lced*lcgjztxvduucpc*vgnz#cedztxvzj*cbadedfjkxtj*tcpfnhduzd#*%cuxanpduxcv.*baz*ixc#,*dtfz*txcacun*v*tzfy*ztbcfuduzj*tvcdpc*c$jgnxdfstxvn*bc*ecpcvcay*bcfy[zfn*cx*eaypcz*txcacuo*%curzedumznfsuyk*zurca#nmzk,*v*xc#*[ztfd*z*ud*gnwzwnd#yk*gn%cuc#,*cun*ud*vbanvd*tcc$wnxs*dd*xadxsz#*fzmn#*$dg*tcpfntzj*eaypcz*txcacuo.*%curzedumznfsunj*zurca#nmzj,*badectxnvfduunj*capnun#z*p#y,*badebazjxzj#z,*y[adheduzj#z,*capnuzgnmzj#z*z*panhenun#z*v*tccxvdxtxvzz*t*edztxvykwz#*bcaje%c#,*ecfhun*ztbcfsgcvnxstj*zt%fk[zxdfsuc*bc*mdfdvc#y*ungun[duzk.*xn%nj*zurca#nmzj,*yxd[%n*%cxcacz*tbctc$un*unudtxz*ywda$*banvn#*z*gn%cuuo#*zuxdadtn#,*ud*ecfhun*angpfnhnxstj*z*ztbcfsgcvnxstj*v*fz[uol*zuxdadtnl,*n*xn%hd*bdadenvnxstj*xadxsz#*fzmn#,*gn*zt%fk[duzd#*tfy[ndv,*badeyt#cxaduuol*gn%cucenxdfsuo#z*n%xn#z*ar.*xn%hd*advzgzcuuod*z*%cuxacfzaykwzd*capnuo*c$jgnuo*bazuz#nxs*#dao*%*clanud*%curzedumznfsucz*zurca#nmzz,*txnvhdz*z#*zgvdtxucz*baz*bacvdeduzz*bacvdac%.*v*tccxvdxtxvzz*t*y%ngc#*badgzeduxn*ar**«c$*yxvdaheduzz*bdad[uj*tvdeduzz*%curzedumznfsucpc*lnan%xdan»*%*ixz#*tvdeduzj#*cxuctjxtj:*tvdeduzj*c*rn%xnl,*tc$oxzjl*z*c$txcjxdfstxvnl*[ntx-ucz*hzguz*panhenuzun,*bcgvcfjkwzd*zeduxzrzmzacvnxs*dpc*fz[uctxs*(bdatcunfsuod*enuuod),*gn*zt%fk[duzd#*tvdeduzz,*bcefdhnwzl*antbac-txanuduzk*v*tadetxvnl*#nttcvcz*zurca#nmzz*v*ytxnucvfduuol*rdedanfs-uo#z*gn%cun#z*tfy[njl;*tvdeduzj,**tfyhd$uod*tvdeduzj,*ectxyb*%*%cxcao#*cpanuz[du*capnun#z*pctyenatxvduucz*vfntxz*v*tccxvdxtxvzz*t*panhenut%z#*%ced%tc#*ar*z*rd-edanfsuo#z*gn%cun#z*(tfyhd$unj*xnzun);*tvjgnuuod*t*%c##da[dt%cz*edjxdfsuctxsk,*ectxyb*%*%cxcao#*cpanuz[du*v*tccxvdx-txvzz*t*panhenut%z#*%ced%tc#*ar*z*rdedanfsuo#z*gn%cun#z*(%c##da[d-t%nj*xnzun);*tvdeduzj*c*tywuctxz*zgc$adxduzj,*bcfdgucz*#cedfz*zfz*bac-#ohfduucpc*c$angmn*ec*crzmznfsucz*by$fz%nmzz*zurca#nmzz*c*uzl.\"\n",
    "# text='жуцйгфосестсъхлрзфълхгзхфвегулкелрлогфякгрзтугелоярсзузызрлзлахсёсжсфхгхсърсъхсдюфжзогхяеюесжлцфспрлхяфвеспрсёлшлшузызрлвшегуепзфхсхсёсъхсдюлфнобъгхясылднлжзогзхлшахсгдфсобхрсрзрсупгоярсргусжрзхгнсмцйзлхцтсмрзтсугжлсйзфоцыгзпхугрфоюгейлецбфпсхулптсахспцвдсояызъзпцезузрзфолдюрздюосфхсоянстзрснжовпбсрлдютсжгерсехстрзтстголгргосёлърснгфгзхфвпгрфшсхвлёугбхпзфхгплкгшегхюегбьзлнугфлес'\n",
    "statfreq={\n",
    "'_':0.175,\n",
    "'О':0.090,\n",
    "'Е':0.072,\n",
    "'А':0.062,\n",
    "'И':0.062,\n",
    "'Т':0.053,\n",
    "'Н':0.053,\n",
    "'С':0.045,\n",
    "'Р':0.040,\n",
    "'В':0.038,\n",
    "'Л':0.035,\n",
    "'К':0.028,\n",
    "'М':0.026,\n",
    "'Д':0.025,\n",
    "'П':0.023,\n",
    "'У':0.021,\n",
    "'Я':0.018,\n",
    "'Ы':0.016,\n",
    "'З':0.016,\n",
    "'Ь':0.14,\n",
    "'Б':0.014,\n",
    "'Г':0.013,\n",
    "'Ч':0.012,\n",
    "'Й':0.010,\n",
    "'Х':0.009,\n",
    "'Ж':0.007,\n",
    "'Ю':0.006,\n",
    "'Ш':0.006,\n",
    "'Ц':0.004,\n",
    "'Щ':0.003,\n",
    "'Э':0.003,\n",
    "'Ф':0.002,\n",
    "\n",
    "\n",
    "}\n",
    "\n",
    "freq = {}\n",
    "for i in text:\n",
    "    if i in freq:\n",
    "        freq[i]+=1\n",
    "    else:\n",
    "        freq[i] = 1\n",
    "\n",
    "# for i in freq:\n",
    "#     print(freq[i]/len(text))\n",
    "\n"
   ]
  },
  {
   "cell_type": "code",
   "execution_count": 22,
   "metadata": {},
   "outputs": [
    {
     "data": {
      "text/plain": [
       "{'%': 0.0247,\n",
       " 'c': 0.0903,\n",
       " 'u': 0.0737,\n",
       " 'r': 0.0119,\n",
       " 'z': 0.0942,\n",
       " 'e': 0.0268,\n",
       " 'd': 0.0686,\n",
       " 'm': 0.0119,\n",
       " 'n': 0.0669,\n",
       " 'f': 0.0277,\n",
       " 's': 0.0145,\n",
       " 'j': 0.0213,\n",
       " '*': 0.1202,\n",
       " 'a': 0.0418,\n",
       " '#': 0.0311,\n",
       " 't': 0.0511,\n",
       " 'x': 0.0452,\n",
       " '[': 0.0089,\n",
       " 'h': 0.0098,\n",
       " 'b': 0.0183,\n",
       " ',': 0.0115,\n",
       " 'y': 0.0162,\n",
       " 'i': 0.0013,\n",
       " 'p': 0.0136,\n",
       " '(': 0.0017,\n",
       " 'g': 0.0153,\n",
       " 'k': 0.006,\n",
       " 'v': 0.032,\n",
       " 'w': 0.0051,\n",
       " 'l': 0.0089,\n",
       " ')': 0.0017,\n",
       " 'o': 0.0115,\n",
       " '.': 0.0034,\n",
       " '$': 0.0072,\n",
       " '«': 0.0004,\n",
       " '»': 0.0004,\n",
       " ':': 0.0004,\n",
       " '-': 0.003,\n",
       " ';': 0.0013}"
      ]
     },
     "execution_count": 22,
     "metadata": {},
     "output_type": "execute_result"
    }
   ],
   "source": [
    "for i in freq:\n",
    "    freq[i]=round(freq[i]/len(text), 4)\n",
    "freq"
   ]
  },
  {
   "cell_type": "code",
   "execution_count": 23,
   "metadata": {},
   "outputs": [
    {
     "name": "stdout",
     "output_type": "stream",
     "text": [
      "0.0247 : %   0.025 : Д\n",
      "0.0903 : c   0.09 : О\n",
      "0.0119 : r   0.012 : Ч\n",
      "0.0268 : e   0.026 : М\n",
      "0.0119 : m   0.012 : Ч\n",
      "0.0277 : f   0.028 : К\n",
      "0.0145 : s   0.014 : Б\n",
      "0.0213 : j   0.021 : У\n",
      "0.0452 : x   0.045 : С\n",
      "0.0089 : [   0.009 : Х\n",
      "0.0098 : h   0.01 : Й\n",
      "0.0098 : h   0.009 : Х\n",
      "0.0183 : b   0.018 : Я\n",
      "0.0115 : ,   0.012 : Ч\n",
      "0.0162 : y   0.016 : Ы\n",
      "0.0162 : y   0.016 : З\n",
      "0.0013 : i   0.002 : Ф\n",
      "0.0136 : p   0.014 : Б\n",
      "0.0136 : p   0.013 : Г\n",
      "0.0017 : (   0.002 : Ф\n",
      "0.0153 : g   0.016 : Ы\n",
      "0.0153 : g   0.016 : З\n",
      "0.006 : k   0.007 : Ж\n",
      "0.006 : k   0.006 : Ю\n",
      "0.006 : k   0.006 : Ш\n",
      "0.0051 : w   0.006 : Ю\n",
      "0.0051 : w   0.006 : Ш\n",
      "0.0089 : l   0.009 : Х\n",
      "0.0017 : )   0.002 : Ф\n",
      "0.0115 : o   0.012 : Ч\n",
      "0.0034 : .   0.004 : Ц\n",
      "0.0034 : .   0.003 : Щ\n",
      "0.0034 : .   0.003 : Э\n",
      "0.0072 : $   0.007 : Ж\n",
      "0.003 : -   0.004 : Ц\n",
      "0.003 : -   0.003 : Щ\n",
      "0.003 : -   0.003 : Э\n",
      "0.003 : -   0.002 : Ф\n",
      "0.0013 : ;   0.002 : Ф\n"
     ]
    }
   ],
   "source": [
    "eps = 0.001\n",
    "result = {}\n",
    "\n",
    "# for i in freq:\n",
    "#     result[i] = '-'\n",
    "\n",
    "for i in freq:\n",
    "    for j in statfreq:\n",
    "        if freq[i]<=statfreq[j]+eps and freq[i]>=statfreq[j]-eps:\n",
    "        # if freq[i]==statfreq[j]:\n",
    "            result[i]='|'\n",
    "            print(freq[i], \":\",i, \" \",statfreq[j], \":\", j)\n",
    "for i in freq:\n",
    "    for j in statfreq:\n",
    "        if freq[i]<=statfreq[j]+eps and freq[i]>=statfreq[j]-eps:\n",
    "        # if freq[i]==statfreq[j]:\n",
    "            result[i]+=j"
   ]
  },
  {
   "cell_type": "markdown",
   "metadata": {},
   "source": []
  },
  {
   "cell_type": "code",
   "execution_count": 34,
   "metadata": {},
   "outputs": [
    {
     "name": "stdout",
     "output_type": "stream",
     "text": [
      "|Д|О-|Ч-|М--|Ч--|К|Б--|У-_--|Ч|О---|Ч-|У-_|М|О-|С-|С|О|Х-|О-_|ЙХ--|О|Д|О--_|Я|О-|У|С--|Ч-_|Я|О-|Д\n",
      "%curzedumznfsunj*zurca#nmzj*ectxnxc[uc*hzac%cd*bcujxzd,*bct%\n"
     ]
    }
   ],
   "source": [
    "restext=''\n",
    "for i in text[0:60]:\n",
    "    if i in result:\n",
    "        restext+=result[i]\n",
    "    else: restext+='-'\n",
    "    if i=='*':\n",
    "        restext+=\"_\"\n",
    "print(restext)\n",
    "print(text[0:60])\n"
   ]
  },
  {
   "cell_type": "code",
   "execution_count": 25,
   "metadata": {},
   "outputs": [
    {
     "name": "stdout",
     "output_type": "stream",
     "text": [
      "['%', 'c', 'u', 'r', 'z', 'e', 'd', 'm', 'n', 'f', 's', 'j', '*', 'a', '#', 't', 'x', '[', 'h', 'b', ',', 'y', 'i', 'p', '(', 'g', 'k', 'v', 'w', 'l', ')', 'o', '.', '$', '«', '»', ':', '-', ';']\n",
      "[0.0247, 0.0903, 0.0737, 0.0119, 0.0942, 0.0268, 0.0686, 0.0119, 0.0669, 0.0277, 0.0145, 0.0213, 0.1202, 0.0418, 0.0311, 0.0511, 0.0452, 0.0089, 0.0098, 0.0183, 0.0115, 0.0162, 0.0013, 0.0136, 0.0017, 0.0153, 0.006, 0.032, 0.0051, 0.0089, 0.0017, 0.0115, 0.0034, 0.0072, 0.0004, 0.0004, 0.0004, 0.003, 0.0013]\n",
      "[':', '«', '»', ';', 'i', '(', ')', '-', '.', 'w', 'k', '$', '[', 'l', 'h', ',', 'o', 'm', 'r', 'p', 's', 'g', 'y', 'b', 'j', '%', 'e', 'f', '#', 'v', 'a', 'x', 't', 'n', 'd', 'u', 'c', 'z', '*']\n",
      "[0.0004, 0.0004, 0.0004, 0.0013, 0.0013, 0.0017, 0.0017, 0.003, 0.0034, 0.0051, 0.006, 0.0072, 0.0089, 0.0089, 0.0098, 0.0115, 0.0115, 0.0119, 0.0119, 0.0136, 0.0145, 0.0153, 0.0162, 0.0183, 0.0213, 0.0247, 0.0268, 0.0277, 0.0311, 0.032, 0.0418, 0.0452, 0.0511, 0.0669, 0.0686, 0.0737, 0.0903, 0.0942, 0.1202]\n"
     ]
    }
   ],
   "source": [
    "a = []\n",
    "b = []\n",
    "for i in freq:\n",
    "    b.append(freq[i])\n",
    "    a.append(i)\n",
    "print(a)\n",
    "print(b)\n",
    "\n",
    "Z = [x for _,x in sorted(zip(b,a))]\n",
    "print(Z) \n",
    "b.sort()\n",
    "print(b)\n"
   ]
  },
  {
   "cell_type": "code",
   "execution_count": 26,
   "metadata": {},
   "outputs": [
    {
     "name": "stdout",
     "output_type": "stream",
     "text": [
      "% :  0.0247 :  |Д\n",
      "c :  0.0903 :  |О\n",
      "u :  0.0737 -\n",
      "r :  0.0119 :  |Ч\n",
      "z :  0.0942 -\n",
      "e :  0.0268 :  |М\n",
      "d :  0.0686 -\n",
      "u :  0.0737 -\n",
      "m :  0.0119 :  |Ч\n",
      "z :  0.0942 -\n",
      "n :  0.0669 -\n",
      "f :  0.0277 :  |К\n",
      "s :  0.0145 :  |Б\n",
      "u :  0.0737 -\n",
      "n :  0.0669 -\n",
      "j :  0.0213 :  |У\n",
      "* :  0.1202 -\n",
      "z :  0.0942 -\n",
      "u :  0.0737 -\n",
      "r :  0.0119 :  |Ч\n"
     ]
    }
   ],
   "source": [
    "for i in text[0:20]:\n",
    "    if i in result:\n",
    "        print(i, ': ', freq[i], ': ', result[i])\n",
    "    else:\n",
    "        print(i, ': ', freq[i], '-')"
   ]
  },
  {
   "cell_type": "code",
   "execution_count": 27,
   "metadata": {},
   "outputs": [
    {
     "name": "stdout",
     "output_type": "stream",
     "text": [
      "39\n",
      "27\n"
     ]
    },
    {
     "data": {
      "image/png": "[encoded data removed]",
      "text/plain": [
       "<Figure size 432x288 with 1 Axes>"
      ]
     },
     "metadata": {
      "needs_background": "light"
     },
     "output_type": "display_data"
    }
   ],
   "source": [
    "from matplotlib import pyplot as plt\n",
    "plt.plot(Z, b)\n",
    "\n",
    "\n",
    "print(len(freq))\n",
    "print(len(result))"
   ]
  },
  {
   "cell_type": "code",
   "execution_count": 29,
   "metadata": {},
   "outputs": [
    {
     "name": "stdout",
     "output_type": "stream",
     "text": [
      "____О_____О_A___A_ _О______A_О__ _____A_____ __О______ ______О___ __________ __ ____О_ __A_____О_О_ ___A _О________О___ _______О_О__ ________О____ __ ______A________О_ __AО____ __________ ____ __О___ _О______A_О_О_ ____A_О________ _______A_ __A_О__A___О_ __A______ ___О_ ___ _О_________A_О_О_ ____________ __О__A ____A___ ____ _О_ ____A_О__A_О_О_ _____ _____ _____________О_ _______ ___О______A__ __ _О_______A_ ____О__ __________ ___О__О__A_ ____ ________О____ _____ ___ ____A__ _____О_____О_A______О_ _О______A_О_О__ __________О_ __ __A____О_ __A __A______ ______A_О_О_ _О_ _________О_ _О__ __ __О___ ___________ ________О___ _________A _О_ ______О__ ________A_О__ _____О_____О_A____О_ _О______A_О__О_ __ _____ _____О__________ ___AО_____О____О__ _____________ _____A___О___ ______A_______ ___О_ ______ ____О_ _______A __ __О___ _О________О__ _______ _____A_______A ___ _________ ______О__A ___ ______О_ ________ _____О_____О_A_____ _О______A_О___ __ ____ __О____ _О_ ___ __A_О__A____ __A______ ___A ___ ____A__ ______A__ ___ ______О__ __О__A_ ____ _____A_О__ ______О_ _________ _____О_____О_A___A_ _О______A_О___ ________A_____A_ ____A_A_О_ _____ _______О___О___О__ _________О___О__ ____A_О__A_О___О_ _О_ ___A__A_A_О_ __ ___________О_О_ __ ___О_______О__ __________ ______A _О_________A____ _О______О_______ ___ _________ __A__A___О___ __A_A_ _О______A_О___ ______A _______О_ ________A __A____О_ ______ ___A_A_ _О_ __A______ _О_______A__ ___ ______A __A___A_A____ _О_ _О_________A____ __ __О_____ _О_______A__ _A __A___ ______A_A____ ______О__ __О__A__ __A _О________О___ _____A___ ________________ __A_____A_______О_ _A__A_О_ ____ __A___ ____О__О______ _О_ ________О_____О__ ____A__ _____A__ ___О__О__A__ _____ __ ____A__ _____О_____О_A____О_ _О______A_О_О__ ___A___О_ _О__ _О________О_ ___О_ _________О_О_ __________ __ ___________О_О_ __ ___A___ _____О_____A ___ _ ____ __________О_О_ ________ _______О_О_ _____О_____О_A______ __A_A____A_ __ ___О__ _______О___ ___________ _______О__ __ __A__A__ ______О___ _О_ ______________A_ __A_____О_ __О___О_ ___A__A_О__A_ __________О__ _О_____О__О__О____A__ ____ __О_______ ________A_____ __A______ __A _О________О___ _______О_О__ _______A_О__ __A________A___О__ __ ________A_ __A_____О_ _О______A_О_О_ __ ____A_________ ______A______О_ __A___A_О_ _____A___ _______О___ _ __________ _______О___ _______ __ ________ ____A_О____ ____A_A_О_ ______A________О_ ___A__О_ __ ___________О_О_ __ ___A__A___О__ _________ ___ _О_ _______A_____О_ __A___A_О_ _________A_ __AО__A__ _____A____ __ ____________О_ _______________ _______ __ ________ ____A_О____ __ ____________О_О_ __ ___A__A___О__ _________ ___ _О_ ______A_____О_ __A___A_О_ _____________A_ __AО__A__ _______О__ __ ________О_ _О_________О___ ________О_ ______О_ _О__О_ _______________ ____A__A ___ ___О__О_A____О_ _____О__A_О_О_ _О______A_О_О_ __ __О___\n"
     ]
    }
   ],
   "source": [
    "sus = ''\n",
    "for i in text:\n",
    "    if i=='*':\n",
    "        sus+=' '\n",
    "    if i=='z':\n",
    "        sus+='О'\n",
    "    if i=='n':\n",
    "        sus+='A'\n",
    "    else:\n",
    "        sus+='_'\n",
    "print(sus)"
   ]
  }
 ],
 "metadata": {
  "interpreter": {
   "hash": "916dbcbb3f70747c44a77c7bcd40155683ae19c65e1c03b4aa3499c5328201f1"
  },
  "kernelspec": {
   "display_name": "Python 3.9.7 64-bit",
   "language": "python",
   "name": "python3"
  },
  "language_info": {
   "codemirror_mode": {
    "name": "ipython",
    "version": 3
   },
   "file_extension": ".py",
   "mimetype": "text/x-python",
   "name": "python",
   "nbconvert_exporter": "python",
   "pygments_lexer": "ipython3",
   "version": "3.10.4"
  },
  "orig_nbformat": 4
 },
 "nbformat": 4,
 "nbformat_minor": 2
}
